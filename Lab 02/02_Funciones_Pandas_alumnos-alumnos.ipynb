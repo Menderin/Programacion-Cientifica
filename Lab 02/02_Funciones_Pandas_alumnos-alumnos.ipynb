{
  "cells": [
    {
      "cell_type": "markdown",
      "metadata": {
        "id": "ZP7gXw9m4Ce4"
      },
      "source": [
        "![](https://drive.google.com/uc?export=view&id=1-5X9OUkA-C2Ih1gOS9Jd7GmkTWUEpDg1)\n",
        "\n",
        "**Asignatura:** *Programación Científica*\n",
        "\n",
        "**Profesores:**\n",
        "\n",
        "*   Dr. Juan Bekios Calfa\n",
        "\n",
        "**Ayudantes**:\n",
        "\n",
        "* Martín Puebla Rivera (Laboratorio) martin.puebla@alumnos.ucn.cl\n",
        "* Pablo Cortés Vega (Cátedra) pablo.cortes01@alumnos.ucn.cl\n",
        "    \n",
        "\n",
        "**Fecha:** 16 de mayo de 2025\n",
        "\n",
        "---\n",
        "\n",
        "# Laboratorio 2: Funciones y carga de datos con Pandas\n",
        "\n",
        "## Descripción del problema:\n",
        "\n",
        "El estudio del flujo de peatones en un corredor unidireccional es un problema relevante en la planificación urbana y en la gestión de eventos donde grandes grupos de personas transitan por espacios limitados.\n",
        "\n",
        "Este problema se centra en analizar y entender cómo se mueven los individuos en un espacio lineal y restringido, donde todos se desplazan en la misma dirección.\n",
        "\n",
        "Se busca identificar patrones, calcular velocidades promedio y evaluar cómo la densidad y otros factores afectan la movilidad de los peatones.\n"
      ]
    },
    {
      "cell_type": "markdown",
      "source": [
        "## Objetivos:\n",
        "\n",
        "1. Cargar el dataset utilizando Pandas.\n",
        "2. Implementar el problema utilizando funciones.\n",
        "3. Calcular la cantidad de peatones que participan en el experimento a partir del dataset.\n",
        "4. Calcular la velocidad media de cada peatón.\n",
        "5. Graficar un histograma de todas las velocidades medias y establecer cuál es la velocidad media dominante.\n",
        "6. Calcular la velocidad media de todos los peatones en el experimento.\n",
        "7. Calcular la distancia de los k peatones más cercanos por frame para cada peatón del frame."
      ],
      "metadata": {
        "id": "mTxyVk047PHy"
      }
    },
    {
      "cell_type": "markdown",
      "source": [
        "### Dataset de peatones:\n",
        "\n",
        "Información general del problema y dataset: https://ped.fz-juelich.de/da/doku.php?id=corridor5\n",
        "\n",
        "Archivo de texto a procesar:\n",
        "\n",
        "* [UNI_CORR_500_05](https://ped.fz-juelich.de/experiments/2013.06.19_Duesseldorf_Messe_BaSiGo/result/corrected/UNI_CORR_500_Gregor/traj_UNI_CORR_500_05.txt)\n",
        "* [UNI_CORR_500_09](http://ped.fz-juelich.de/experiments/2013.06.19_Duesseldorf_Messe_BaSiGo/result/corrected/UNI_CORR_500_Gregor/traj_UNI_CORR_500_09.txt)\n"
      ],
      "metadata": {
        "id": "uspll7u_7Saq"
      }
    },
    {
      "cell_type": "markdown",
      "source": [
        "### Procedimiento general del laboratorio:\n",
        "\n",
        "*  **Datos:** Los datos consistirán en registros temporales de peatones que transitan por un corredor. Cada registro incluirá marcas de tiempo, posiciones y otros posibles atributos como la edad o el género del peatón.\n",
        "*  **Herramientas de software:** Se utilizará Python como lenguaje de programación principal. El laboratorio utilizará los conceptos de manipulación de strings y diccionarios para la implementación del problema.\n",
        "*  **Métodos de procesamiento de datos:** Se emplearán técnicas de manipulación de cadenas para limpiar y preparar los datos, y estructuras de datos como listas y diccionarios para su organización y análisis.\n",
        "*  **Entregables:**  El laboratorio finalizará con la presentación de un archivo colab que incluya gráficos y tablas que resuman los hallazgos estadísticos, así como una discusión sobre las implicaciones de estos resultados para el diseño de infraestructura peatonal.\n",
        "\n",
        "Este laboratorio busca dotar a los estudiantes o investigadores de las herramientas y métodos necesarios para abordar problemas de ingeniería urbana y de transporte de manera práctica y basada en datos."
      ],
      "metadata": {
        "id": "pRt5Sog77VKS"
      }
    },
    {
      "cell_type": "markdown",
      "metadata": {
        "id": "tFWsOvMvWCRA"
      },
      "source": [
        "# 1. Ejemplo de carga de datos\n",
        "\n",
        "Estos ejemplos están diseñados para ilustrar los componentes esenciales involucrados en la carga, análisis y visualización de datos, culminando con el cálculo de la velocidad media.\n",
        "\n",
        "Aunque el ejemplo proporcionado se centra en la carga de datos de una sola persona, se espera que los estudiantes apliquen los conceptos aprendidos para abordar el problema completo tal como se ha planteado.\n",
        "\n",
        "##1.1 Carga de datos\n",
        "\n",
        "Se cargarán los datos y se acondicionarán para poder utilizarlos adecuadamente en las fase de análisis.\n",
        "\n",
        "### 1.1.1 Se monta el disco virtual de google drive."
      ]
    },
    {
      "cell_type": "code",
      "execution_count": null,
      "metadata": {
        "id": "c9uKZPrpXUWC"
      },
      "outputs": [],
      "source": [
        "# Montar unidad virtual desde google Drive\n",
        "from google.colab import drive\n",
        "drive.mount('/gdrive', force_remount=True)\n",
        "%cd '/gdrive/MyDrive/PCIENTIFICA/lab04/dataset'"
      ]
    },
    {
      "cell_type": "markdown",
      "metadata": {
        "id": "iW881omkXfYJ"
      },
      "source": [
        "### 1.1.2 Carga de datos utilizando Pandas"
      ]
    },
    {
      "cell_type": "code",
      "execution_count": null,
      "metadata": {
        "id": "p8sOMRJ_YF44"
      },
      "outputs": [],
      "source": [
        "import pandas as pd\n",
        "\n",
        "# Cargamos el archivo UNI_CORR_500_05\n",
        "data = pd.read_csv('traj_UNI_CORR_500_05.txt')\n",
        "\n",
        "# Mostrar las primeras filas del dataset para entender su estructura\n",
        "data.head()"
      ]
    },
    {
      "cell_type": "markdown",
      "source": [
        "### 1.1.3 Carga correcta utilizando Pandas\n",
        "\n",
        "Para poder cargar correctamente el archivo de texto de peatones debemos considerar que las dos primeras líneas tienen información de cabecera que es irrelevante y no se debe considerar. También se debe indicar que los separadores de texto no son ni comas, o puntos y comas. En este caso son tabuladores.\n",
        "\n",
        "\n"
      ],
      "metadata": {
        "id": "cfRYR3Bi-MPA"
      }
    },
    {
      "cell_type": "code",
      "source": [
        "# Cargar el dataset omitiendo las primeras dos líneas y especificando el separador de tabulación\n",
        "data = pd.read_csv('traj_UNI_CORR_500_05.txt', skiprows=2, sep='\\t')\n",
        "\n",
        "# Mostrar las primeras filas del dataset para confirmar que se ha cargado correctamente\n",
        "data.head()"
      ],
      "metadata": {
        "id": "d0xetRll-3IT"
      },
      "execution_count": null,
      "outputs": []
    },
    {
      "cell_type": "markdown",
      "source": [
        "### 1.1.4 Cambiar el nombre de una columna\n",
        "\n",
        "Para mayor claridad la columna `# PersID` será cambiada por `ID`.\n",
        "\n",
        "\n",
        "\n",
        "\n",
        "\n",
        "\n"
      ],
      "metadata": {
        "id": "F7wy-X4b_HtM"
      }
    },
    {
      "cell_type": "code",
      "source": [
        "# Renombrar la columna '# PersID' a 'ID'\n",
        "data.rename(columns={'# PersID': 'ID'}, inplace=True)\n",
        "\n",
        "# Mostrar las primeras filas del dataset para confirmar que se ha cargado y renombrado correctamente\n",
        "data.head()"
      ],
      "metadata": {
        "id": "eG3H4qLY_vOT"
      },
      "execution_count": null,
      "outputs": []
    },
    {
      "cell_type": "markdown",
      "source": [
        "## 1.2 Ejercicios\n",
        "\n",
        "### 1.2.1 Calcular la cantidad de peatones que participan en el experimento a partir del dataset."
      ],
      "metadata": {
        "id": "hx02mWGqAiWF"
      }
    },
    {
      "cell_type": "code",
      "source": [
        "print(f'Cantidad de peatones en el dataset: {data[\"ID\"].nunique()}')"
      ],
      "metadata": {
        "id": "n4Xlhs67Aun3"
      },
      "execution_count": null,
      "outputs": []
    },
    {
      "cell_type": "markdown",
      "source": [
        "###1.2.2 Calcular la velocidad media de cada peatón\n",
        "\n",
        "Para calcular la velocidad de cada peatón primero se debe calcular la distancia recorrida en cada frame por cada peatón.\n",
        "\n",
        "Para su implementación se realizarán los siguientes pasos:\n",
        "\n",
        "1. Se define una función calcular_distancia que calcula la distancia euclidiana entre cada fila y la anterior dentro de un grupo.\n",
        "\n",
        "2. Se utiliza `groupby` para aplicar esta función a cada grupo de ID con el método `apply`.\n",
        "\n",
        "3. Se muestran las distancias calculadas dentro del DataFrame.\n"
      ],
      "metadata": {
        "id": "VCHASLtRBRuR"
      }
    },
    {
      "cell_type": "code",
      "source": [
        "%%time\n",
        "import numpy as np\n",
        "\n",
        "# Función para calcular la distancia euclidiana\n",
        "def calcular_distancia(df):\n",
        "    df['distancia'] = np.sqrt((df['X'] - df['X'].shift(1))**2 + (df['Y'] - df['Y'].shift(1))**2)\n",
        "    df['distancia'].fillna(0, inplace=True)  # Llenar los valores NaN con 0\n",
        "    return df\n",
        "\n",
        "# Aplicar la función de distancia por cada grupo de ID\n",
        "data = data.groupby('ID').apply(calcular_distancia)\n",
        "\n",
        "# Restablecer el índice para \"desagrupar\"\n",
        "data = data.reset_index(drop=True)\n",
        "\n",
        "# Mostrar el DataFrame con las distancias calculadas\n",
        "print(data)"
      ],
      "metadata": {
        "id": "ZdsW475zBv2n"
      },
      "execution_count": null,
      "outputs": []
    },
    {
      "cell_type": "code",
      "source": [
        "data.head()"
      ],
      "metadata": {
        "id": "xxfIqsugrtpH"
      },
      "execution_count": null,
      "outputs": []
    },
    {
      "cell_type": "code",
      "source": [
        "# Calcular las velocidades por peatón\n",
        "def calcular_velocidad(df):\n",
        "    df['velocidad'] = df['distancia']/0.04 #(1/25 seg)\n",
        "    return df\n",
        "\n",
        "# Aplicar la función de distancia por cada grupo de ID\n",
        "data = data.groupby('ID').apply(calcular_velocidad)\n",
        "\n",
        "# Restablecer el índice para \"desagrupar\"\n",
        "data = data.reset_index(drop=True)\n",
        "\n",
        "# Mostrar el DataFrame con las distancias calculadas\n",
        "print(data)"
      ],
      "metadata": {
        "id": "HEjyURT-pEoQ"
      },
      "execution_count": null,
      "outputs": []
    },
    {
      "cell_type": "markdown",
      "source": [
        "###1.2.3 Eliminar todas las velocidades cero"
      ],
      "metadata": {
        "id": "sOIR7Q9mtHl0"
      }
    },
    {
      "cell_type": "code",
      "source": [
        "# Eliminar las filas donde la distancia es cero\n",
        "data = data[data['distancia'] != 0]"
      ],
      "metadata": {
        "id": "RvdchYk8tN7t"
      },
      "execution_count": null,
      "outputs": []
    },
    {
      "cell_type": "code",
      "source": [
        "data.head()"
      ],
      "metadata": {
        "id": "lzZV_fYHt2HP"
      },
      "execution_count": null,
      "outputs": []
    },
    {
      "cell_type": "markdown",
      "source": [
        "Utilizando el comando drop"
      ],
      "metadata": {
        "id": "Eg7PRxMmt9A9"
      }
    },
    {
      "cell_type": "code",
      "source": [
        "# Identificar las filas donde la distancia es cero\n",
        "indice_eliminar_filas = data[data['distancia'] == 0].index\n",
        "\n",
        "# Eliminar las filas identificadas\n",
        "data = data.drop(indice_eliminar_filas)"
      ],
      "metadata": {
        "id": "irEGLkmct_bQ"
      },
      "execution_count": null,
      "outputs": []
    },
    {
      "cell_type": "code",
      "source": [
        "data.head()"
      ],
      "metadata": {
        "id": "SWb_OSEWuiVZ"
      },
      "execution_count": null,
      "outputs": []
    },
    {
      "cell_type": "markdown",
      "source": [
        "###1.2.3 Calcular la velocidad media de una persona"
      ],
      "metadata": {
        "id": "a3rzBdnfwgLA"
      }
    },
    {
      "cell_type": "code",
      "source": [
        "dp = data[data['ID'] == 1]\n",
        "\n",
        "print(f'La velocidad media de la persona 1 es: {dp[\"velocidad\"].mean()}')"
      ],
      "metadata": {
        "id": "S4vphS8Rvgl-"
      },
      "execution_count": null,
      "outputs": []
    },
    {
      "cell_type": "markdown",
      "source": [
        "###1.2.4 Calcular la velocidad media de todos los peatones"
      ],
      "metadata": {
        "id": "Sju1E1PZ1sFq"
      }
    },
    {
      "cell_type": "code",
      "source": [
        "df_velocidad_media = data.groupby('ID')['velocidad'].mean()\n",
        "df_velocidad_media.head()"
      ],
      "metadata": {
        "id": "F4FcpuD21s0x"
      },
      "execution_count": null,
      "outputs": []
    },
    {
      "cell_type": "markdown",
      "metadata": {
        "id": "GC2W7_fmH3fQ"
      },
      "source": [
        "#2. Problema\n",
        "\n",
        "El laboratorio busca analizar el movimiento de peatones en un corredor unidireccional para comprender mejor la dinámica de flujo peatonal en entornos controlados. Utilizando un conjunto de datos específico, el laboratorio se enfoca en:\n",
        "\n",
        "1. **Cargar y Preparar los Datos:** Importar los datos desde un archivo externo utilizando Python, con especial atención en extraer información relevante como marcas de tiempo y posiciones de cada peatón registrado.\n",
        "\n",
        "2. **Análisis de Datos:**\n",
        "   - **Cantidad de Peatones:** Determinar cuántos peatones participan en el experimento, contando el número de identificadores únicos de peatones en el dataset.\n",
        "   - **Velocidad Media por Peatón:** Calcular la velocidad media para cada peatón individualmente. Esto implicará determinar la distancia total recorrida y el tiempo total empleado, luego calcular la velocidad promedio para cada uno.\n",
        "   \n",
        "3. **Visualización de Datos:**\n",
        "   - **Histograma de Velocidades Medias:** Crear un histograma para visualizar la distribución de las velocidades medias de todos los peatones. Identificar la velocidad media dominante observando el peak (valor más alto) más prominente en el histograma.\n",
        "   \n",
        "4. **Cálculo de Velocidad Media Global:** Determinar la velocidad media de todos los peatones en el experimento, que será el promedio de todas las velocidades medias individuales.\n",
        "\n",
        "5. **Calcular la distancia de los k peatones más cercanos** por frame para cada peatón del frame.\n",
        "\n",
        "\n",
        "### Objetivos Adicionales:\n",
        "\n",
        "- **Descomposición funcional del problema**: Asegurar que cada parte del análisis se maneje a través de funciones específicas y modulares. Esto incluye cargar datos, calcular distancias, velocidades y realizar análisis específicos, todo encapsulado en funciones para facilitar la comprensión y reutilización del código.\n",
        "\n",
        "- **Documentar el código utilizando docstring**: Revisar el siguiente link, https://www.geeksforgeeks.org/python-docstrings/.\n",
        "\n",
        "- **Interpretación de Resultados**: Discutir cómo los resultados pueden influir en el diseño de infraestructura peatonal y en la planificación de eventos masivos, basándose en las velocidades medias y las tendencias observadas en el histograma.\n",
        "\n",
        "Este enfoque permitirá obtener una comprensión detallada de las características del flujo peatonal, crucial para mejoras en seguridad y eficiencia en entornos urbanos y otros espacios públicos.\n",
        "\n",
        "## 1. Cargar y Preparar los Datos\n",
        "\n",
        "### 1.1 Carga de archivos de textos de peatones"
      ]
    },
    {
      "cell_type": "markdown",
      "source": [
        "Declarar solo las funciones."
      ],
      "metadata": {
        "id": "AO8WVtmnyCWP"
      }
    },
    {
      "cell_type": "code",
      "execution_count": null,
      "metadata": {
        "id": "5zT1y8yTgzjK"
      },
      "outputs": [],
      "source": [
        "# Función para cargar el dataset\n",
        "def cargar_datos(ruta):\n",
        "    \"\"\"\n",
        "    Carga el dataset desde la ruta especificada.\n",
        "\n",
        "    Args:\n",
        "    ruta (str): Ruta al archivo CSV del dataset.\n",
        "\n",
        "    Returns:\n",
        "    DataFrame: DataFrame de Pandas con los datos cargados.\n",
        "    \"\"\"\n",
        "    # Agregar código aqui\n",
        "\n",
        "# Cargar el dataset\n",
        "data = cargar_datos('ruta/del/dataset.csv')"
      ]
    },
    {
      "cell_type": "markdown",
      "metadata": {
        "id": "GtC9WpFcVWhp"
      },
      "source": [
        "##2. Análisis de Datos\n",
        "\n",
        "**Cantidad de Peatones:** Determinar cuántos peatones participan en el experimento, contando el número de identificadores únicos de peatones en el dataset.\n",
        "\n",
        "**Velocidad Media por Peatón:** Calcular la velocidad media para cada peatón individualmente. Esto implicará determinar la distancia total recorrida y el tiempo total empleado, luego calcular la velocidad promedio para cada uno.\n"
      ]
    },
    {
      "cell_type": "code",
      "source": [
        "# Calcular la cantidad de peatones que hay en el dataset\n",
        "def contar_peatones(data):\n",
        "    \"\"\"\n",
        "    Calcula la cantidad de peatones únicos en el dataset.\n",
        "\n",
        "    Args:\n",
        "    data (DataFrame): DataFrame con los datos de los peatones.\n",
        "\n",
        "    Returns:\n",
        "    int: Cantidad de peatones únicos.\n",
        "    \"\"\"\n",
        "    # Escribir código aquí\n",
        "\n",
        "# Calcular la cantidad de peatones únicos\n",
        "num_peatones = contar_peatones(data)\n",
        "print(f'Cantidad de peatones: {num_peatones}')"
      ],
      "metadata": {
        "id": "_o3FvNIrjkNq"
      },
      "execution_count": null,
      "outputs": []
    },
    {
      "cell_type": "code",
      "source": [
        "# Función para calcular la velocidad media de cada peatón\n",
        "def calcular_velocidades_medias(data):\n",
        "    \"\"\"\n",
        "    Calcula la velocidad media de cada peatón en el dataset.\n",
        "\n",
        "    Args:\n",
        "    data (DataFrame): DataFrame con los datos de los peatones.\n",
        "\n",
        "    Returns:\n",
        "    DataFrame: DataFrame con las velocidades medias de cada peatón.\n",
        "    \"\"\"\n",
        "    # Escribir código aquí\n",
        "\n",
        "# Calcular las velocidades medias\n",
        "velocidades_df = calcular_velocidades_medias(data)\n",
        "\n",
        "# Mostrar las primeras filas del DataFrame de velocidades\n",
        "velocidades_df.head()"
      ],
      "metadata": {
        "id": "m2rh_Hezjq4x"
      },
      "execution_count": null,
      "outputs": []
    },
    {
      "cell_type": "markdown",
      "source": [
        "##3. Visualización de Datos\n",
        "\n",
        " Crear un histograma para visualizar la distribución de las velocidades medias de todos los peatones. Identificar la velocidad media dominante observando el peak (valor más alto) más prominente en el histograma.\n",
        "\n"
      ],
      "metadata": {
        "id": "YJukdshzj0K5"
      }
    },
    {
      "cell_type": "code",
      "source": [
        "import matplotlib.pyplot as plt\n",
        "\n",
        "# Función para graficar el histograma de las velocidades medias\n",
        "def graficar_histograma(velocidades_df):\n",
        "    \"\"\"\n",
        "    Grafica un histograma de las velocidades medias de los peatones.\n",
        "\n",
        "    Args:\n",
        "    velocidades_df (DataFrame): DataFrame con las velocidades medias de los peatones.\n",
        "    \"\"\"\n",
        "    plt.hist(velocidades_df['velocidad_media'], bins=10, edgecolor='black')\n",
        "    plt.xlabel('Velocidad Media (m/s)')\n",
        "    plt.ylabel('Frecuencia')\n",
        "    plt.title('Histograma de Velocidades Medias de Peatones')\n",
        "    plt.show()\n",
        "\n",
        "# Graficar el histograma de las velocidades medias\n",
        "\n",
        "# Escribir código para obtener velocidades_df aquí\n",
        "graficar_histograma(velocidades_df)\n",
        "\n",
        "# Calcular la velocidad media dominante\n",
        "velocidad_media_dominante = velocidades_df['velocidad_media'].mode()[0]\n",
        "print(f'Velocidad media dominante: {velocidad_media_dominante} m/s')"
      ],
      "metadata": {
        "id": "siQPN_GlkF0c"
      },
      "execution_count": null,
      "outputs": []
    },
    {
      "cell_type": "markdown",
      "source": [
        "##4. Cálculo de Velocidad Media Global\n",
        "\n",
        "Determinar la velocidad media de todos los peatones en el experimento, que será el promedio de todas las velocidades medias individuales."
      ],
      "metadata": {
        "id": "T39H1Yn5kJkN"
      }
    },
    {
      "cell_type": "code",
      "source": [
        "# Función para calcular la velocidad media total de todos los peatones\n",
        "def calcular_velocidad_media_total(velocidades_df):\n",
        "    \"\"\"\n",
        "    Calcula la velocidad media total de todos los peatones en el dataset.\n",
        "\n",
        "    Args:\n",
        "    velocidades_df (DataFrame): DataFrame con las velocidades medias de los peatones.\n",
        "\n",
        "    Returns:\n",
        "    float: Velocidad media total de todos los peatones.\n",
        "    \"\"\"\n",
        "    # Agregar código aquí\n",
        "\n",
        "# Calcular la velocidad media total de todos los peatones\n",
        "velocidad_media_total = calcular_velocidad_media_total(velocidades_df)\n",
        "print(f'Velocidad media total de todos los peatones: {velocidad_media_total} m/s')"
      ],
      "metadata": {
        "id": "T-UFw94HkWhU"
      },
      "execution_count": null,
      "outputs": []
    },
    {
      "cell_type": "markdown",
      "source": [
        "##5. Calcular los k vecinos más cercanos de un peatón en un frame\n",
        "\n",
        "Definir la función que permita obtener los k vecinos más cercanos de todos los peatones en todos los frames. Retornar una lista de tuplas (id peatón, distancia)."
      ],
      "metadata": {
        "id": "EVqd-0Bw22yI"
      }
    },
    {
      "cell_type": "code",
      "source": [
        "# Definir la función aquí"
      ],
      "metadata": {
        "id": "MF0BPg8E3tbE"
      },
      "execution_count": null,
      "outputs": []
    },
    {
      "cell_type": "markdown",
      "source": [
        "## 6. Utilizar todas las funciones implementadas para probar los dos archivos"
      ],
      "metadata": {
        "id": "4KYd5FHx4xoi"
      }
    },
    {
      "cell_type": "code",
      "source": [
        "# Programa principal\n",
        "def main(archivo, k=3):\n",
        "  \"\"\"\n",
        "  Programa principipal donde se ejecutan todas las tareas solicitadas.\n",
        "\n",
        "  Args:\n",
        "  archivo (String): Path o ruta y nombre del archivo.\n",
        "\n",
        "  Returns:\n",
        "  float: Velocidad media total de todos los peatones.\n",
        "  \"\"\"\n",
        "  # Agregar código aquí\n",
        "  return cantidad_personas, velocidad_media_cada_peaton, velocidad_media_total, calcular_vecinos_cercanos_frames"
      ],
      "metadata": {
        "id": "vbvPxxnm46HB"
      },
      "execution_count": null,
      "outputs": []
    },
    {
      "cell_type": "code",
      "source": [
        "# Ejecución main()\n",
        "nombre_archivo = 'archivo.txt'\n",
        "cantidad_personas, velocidad_media_cada_peaton, velocidad_media_total, calcular_vecinos_cercanos_frames = main(archivo=nombre_archivo, k=3)\n",
        "\n",
        "# Graficar los resultados obtenidos por medio de histograma u otro gráfico"
      ],
      "metadata": {
        "id": "vYG6oZTZ69hl"
      },
      "execution_count": null,
      "outputs": []
    },
    {
      "cell_type": "markdown",
      "metadata": {
        "id": "Y47wkn2p72Pd"
      },
      "source": [
        "# Instrucciones para completar el informe del laboratorio: Análisis del Flujo Peatonal\n",
        "\n",
        "## 1. Sección de Resultados\n",
        "\n",
        "En esta sección debes **mostrar y explicar los resultados obtenidos** tras procesar los datos del experimento. Incluye tanto **tablas como gráficos** que respalden tus hallazgos. No basta con solo mostrar números: es importante que expliques qué significan esos datos en el contexto del flujo peatonal.\n",
        "\n",
        "Debes considerar incluir (y explicar) métricas como:\n",
        "\n",
        "- Cantidad total de peatones que aparecen en el experimento.\n",
        "- Velocidad media **por peatón** y **general**.\n",
        "- Histograma de velocidades para identificar la velocidad más frecuente.\n",
        "- Distancia media a los `k` vecinos más cercanos (por frame).\n",
        "\n",
        "### Ejemplo de tabla de resultados\n",
        "\n",
        "> ⚠️ *Este es solo un ejemplo referencial. Debes completarlo con los datos obtenidos por tu grupo.*\n",
        "\n",
        "| **Métrica**                                                                 | **Valor**                       |\n",
        "|------------------------------------------------------------------------------|----------------------------------|\n",
        "| Cantidad total de peatones                                                  | 78                               |\n",
        "| Velocidad media de cada peatón (promedio por individuo)                     | Ver histograma y lista anexa     |\n",
        "| Velocidad media general del experimento                                     | 1.49 m/s                         |\n",
        "| Velocidad más frecuente (moda del histograma de velocidades)                | 1.41 m/s                         |\n",
        "| Velocidad mínima registrada                                                 | 0.62 m/s                         |\n",
        "| Velocidad máxima registrada                                                 | 2.18 m/s                         |\n",
        "| Número de vecinos más cercanos considerados (`k`)                           | 3                                |\n",
        "| Distancia media a los `k` peatones más cercanos por frame                   | 1.25 m                           |\n",
        "| Distancia media de los `k` vecinos más cercanos para cada peatón por frame  | Ver distribución por individuo   |\n",
        "\n",
        "También se deben incluir visualizaciones como:\n",
        "\n",
        "- Histograma de velocidades.\n",
        "- Gráfico de dispersión de distancias promedio por peatón.\n",
        "- Evolución temporal de velocidad general (si es posible).\n",
        "\n",
        "---\n",
        "\n",
        "## 2. Sección de Conclusiones\n",
        "\n",
        "En esta parte debes **reflexionar sobre los resultados obtenidos** y qué implicancias tienen. Puedes guiarte por las siguientes preguntas para redactar tus conclusiones:\n",
        "\n",
        "- ¿Qué patrones o comportamientos relevantes se observaron en el flujo peatonal?\n",
        "- ¿Cómo afecta la densidad de peatones a la velocidad observada?\n",
        "- ¿Qué tan útil fue usar Python para este tipo de análisis?\n",
        "- ¿Qué limitaciones tuvo el análisis realizado?\n",
        "- ¿Cómo podrían aplicarse estos resultados en el diseño de espacios públicos o planificación urbana?\n",
        "- ¿Qué aprendiste sobre el manejo y procesamiento de archivos de texto con Python?\n",
        "\n",
        "La idea es que esta sección muestre que comprendiste el propósito del análisis, cómo usar herramientas computacionales para estudiar fenómenos reales, y que seas capaz de **extraer aprendizajes útiles y aplicables** a otras situaciones.\n",
        "\n",
        "---\n",
        "\n",
        "✍️ **Recuerda incluir los nombres de todos los integrantes del grupo en el notebook.**  \n",
        "📁 El archivo debe subirse con el nombre correspondiente, por ejemplo: `GRUPO_A.ipynb`\n",
        "\n",
        "\n",
        "\n"
      ]
    }
  ],
  "metadata": {
    "colab": {
      "provenance": []
    },
    "kernelspec": {
      "display_name": "Python 3",
      "name": "python3"
    }
  },
  "nbformat": 4,
  "nbformat_minor": 0
}