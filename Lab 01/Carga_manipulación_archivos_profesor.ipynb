{
 "cells": [
  {
   "cell_type": "markdown",
   "metadata": {
    "id": "ZP7gXw9m4Ce4"
   },
   "source": [
    "![](https://drive.google.com/uc?export=view&id=1-5X9OUkA-C2Ih1gOS9Jd7GmkTWUEpDg1)\n",
    "\n",
    "**Asignatura:** *Programación Científica*\n",
    "\n",
    "**Profesores:**\n",
    "\n",
    "*   Dr. Juan Bekios Calfa\n",
    "\n",
    "**Ayudantes**:\n",
    "\n",
    "\n",
    "**Fecha:** 11 de abril de 2025\n",
    "\n",
    "---\n",
    "\n",
    "\n",
    "\n",
    "# Laboratorio 01: Carga y manipulación de archivos de texto\n",
    "\n",
    "## Descripción del problema:\n",
    "\n",
    "El estudio del flujo de peatones en un corredor unidireccional es un problema relevante en la planificación urbana y en la gestión de eventos donde grandes grupos de personas transitan por espacios limitados.\n",
    "Este problema se centra en analizar y entender cómo se mueven los individuos en un espacio lineal y restringido, donde todos se desplazan en la misma dirección. Se busca identificar patrones, calcular velocidades promedio y evaluar cómo la densidad y otros factores afectan la movilidad de los peatones.\n",
    "\n",
    "\n",
    "## Objetivos:\n",
    "\n",
    "1. **Cargar los datos:** Utilizar Python para importar los datos de flujo peatonal desde archivos externos.\n",
    "2. **Procesar los datos de entrada:** Emplear métodos de manipulación de cadenas para extraer y limpiar la información necesaria de los datos brutos.\n",
    "3. **Organizar los datos:** Usar diccionarios para clasificar los datos por características relevantes como tiempos, velocidades y densidades.\n",
    "4. **Análisis estadístico:** Calcular estadísticas descriptivas, incluyendo medias y desviaciones estándar, para obtener una comprensión más profunda de las velocidades y comportamientos de los peatones en el corredor.\n",
    "\n",
    "### Dataset de peatones:\n",
    "\n",
    "Información general del problema y dataset: https://ped.fz-juelich.de/da/doku.php?id=corridor5\n",
    "\n",
    "Archivo de texto a procesar (UNI_CORR_500_05): [Descargar aquí](https://ped.fz-juelich.de/experiments/2013.06.19_Duesseldorf_Messe_BaSiGo/result/corrected/UNI_CORR_500_Gregor/traj_UNI_CORR_500_05.txt)\n",
    "\n",
    "\n",
    "### Procedimiento general del laboratorio:\n",
    "\n",
    "*  **Datos:** Los datos consistirán en registros temporales de peatones que transitan por un corredor. Cada registro incluirá marcas de tiempo, posiciones y otros posibles atributos como la edad o el género del peatón.\n",
    "*  **Herramientas de software:** Se utilizará Python como lenguaje de programación principal. El laboratorio utilizará los conceptos de manipulación de strings y diccionarios para la implementación del problema.\n",
    "*  **Métodos de procesamiento de datos:** Se emplearán técnicas de manipulación de cadenas para limpiar y preparar los datos, y estructuras de datos como listas y diccionarios para su organización y análisis.\n",
    "*  **Entregables:**  El laboratorio finalizará con la presentación de un archivo colab que incluya gráficos y tablas que resuman los hallazgos estadísticos, así como una discusión sobre las implicaciones de estos resultados para el diseño de infraestructura peatonal.\n",
    "\n",
    "Este laboratorio busca dotar a los estudiantes o investigadores de las herramientas y métodos necesarios para abordar problemas de ingeniería urbana y de transporte de manera práctica y basada en datos."
   ]
  },
  {
   "cell_type": "markdown",
   "metadata": {
    "id": "tFWsOvMvWCRA"
   },
   "source": [
    "# 1. Ejemplo de carga de datos\n",
    "\n",
    "Estos ejemplos están diseñados para ilustrar los componentes esenciales involucrados en la carga, análisis y visualización de datos, culminando con el cálculo de la velocidad media.\n",
    "\n",
    "Aunque el ejemplo proporcionado se centra en la carga de datos de una sola persona, se espera que los estudiantes apliquen los conceptos aprendidos para abordar el problema completo tal como se ha planteado.\n",
    "\n",
    "##1.1 Carga de datos\n",
    "\n",
    "Se cargarán los datos y se acondicionarán para poder utilizarlos adecuadamente en las fase de análisis.\n",
    "\n",
    "### 1.1.1 Se monta el disco virtual de google drive."
   ]
  },
  {
   "cell_type": "code",
   "execution_count": 1,
   "metadata": {
    "colab": {
     "base_uri": "https://localhost:8080/"
    },
    "executionInfo": {
     "elapsed": 6249,
     "status": "ok",
     "timestamp": 1743109345418,
     "user": {
      "displayName": "Juan Bekios",
      "userId": "07279642735588932357"
     },
     "user_tz": 180
    },
    "id": "c9uKZPrpXUWC",
    "outputId": "5066544f-e456-4f18-cc15-8526b425a4f5"
   },
   "outputs": [
    {
     "name": "stdout",
     "output_type": "stream",
     "text": [
      "Mounted at /gdrive\n",
      "/gdrive/MyDrive/COQ-ESC-UCN/Classes/ProgramaciónCientífica/PC-2025-01/Laboratorio/Lab01: Carga y manipulación de archivos\n"
     ]
    }
   ],
   "source": [
    "# Montar unidad virtual desde google Drive\n",
    "from google.colab import drive\n",
    "drive.mount('/gdrive', force_remount=True)\n",
    "%cd '/gdrive/MyDrive/COQ-ESC-UCN/Classes/ProgramaciónCientífica/PC-2025-01/Laboratorio/Lab01: Carga y manipulación de archivos'"
   ]
  },
  {
   "cell_type": "markdown",
   "metadata": {
    "id": "iW881omkXfYJ"
   },
   "source": [
    "### 1.1.2 Carga de datos errónea"
   ]
  },
  {
   "cell_type": "code",
   "execution_count": 2,
   "metadata": {
    "executionInfo": {
     "elapsed": 39,
     "status": "ok",
     "timestamp": 1743109347831,
     "user": {
      "displayName": "Juan Bekios",
      "userId": "07279642735588932357"
     },
     "user_tz": 180
    },
    "id": "NNU_PBuZXfvv"
   },
   "outputs": [],
   "source": [
    "# Cargar archivo de texto en modo lectura (Con error explicar por qué)\n",
    "with open('traj_UNI_CORR_500_05.txt', 'r') as archivo:\n",
    "  # Lee el contenido del archivo\n",
    "  peatones_txt = archivo.read()"
   ]
  },
  {
   "cell_type": "markdown",
   "metadata": {
    "id": "8VdJzuq7YBC7"
   },
   "source": [
    "### 1.1.3 Carga de datos por línea"
   ]
  },
  {
   "cell_type": "code",
   "execution_count": 3,
   "metadata": {
    "colab": {
     "base_uri": "https://localhost:8080/"
    },
    "executionInfo": {
     "elapsed": 943,
     "status": "ok",
     "timestamp": 1743109352096,
     "user": {
      "displayName": "Juan Bekios",
      "userId": "07279642735588932357"
     },
     "user_tz": 180
    },
    "id": "p8sOMRJ_YF44",
    "outputId": "1be55b8f-5f39-4974-b9d9-a18007ede75d"
   },
   "outputs": [
    {
     "name": "stdout",
     "output_type": "stream",
     "text": [
      "[(74, -5.5268, 4.2383, 1.76), (75, -5.4471, 4.2452, 1.76), (76, -5.3705, 4.2548, 1.76), (77, -5.2965, 4.2515, 1.76), (78, -5.2246, 4.2578, 1.76), (79, -5.1642, 4.2572, 1.76), (80, -5.1223, 4.2612, 1.76), (81, -5.075, 4.2575, 1.76), (82, -5.0274, 4.246, 1.76), (83, -4.975, 4.2477, 1.76), (84, -4.9091, 4.2394, 1.76), (85, -4.8327, 4.2288, 1.76), (86, -4.764, 4.2127, 1.76), (87, -4.6913, 4.1955, 1.76), (88, -4.6185, 4.1756, 1.76), (89, -4.5577, 4.1619, 1.76), (90, -4.4806, 4.1507, 1.76), (91, -4.4286, 4.1452, 1.76), (92, -4.3771, 4.1422, 1.76), (93, -4.3264, 4.1427, 1.76), (94, -4.2727, 4.145, 1.76), (95, -4.2155, 4.1473, 1.76), (96, -4.152, 4.1498, 1.76), (97, -4.0851, 4.1511, 1.76), (98, -4.0136, 4.1517, 1.76), (99, -3.9384, 4.1541, 1.76), (100, -3.8627, 4.1595, 1.76), (101, -3.7902, 4.1683, 1.76), (102, -3.7241, 4.1799, 1.76), (103, -3.6618, 4.1928, 1.76), (104, -3.6061, 4.203, 1.76), (105, -3.5544, 4.2095, 1.76), (106, -3.5046, 4.213, 1.76), (107, -3.4548, 4.2127, 1.76), (108, -3.403, 4.2093, 1.76), (109, -3.347, 4.2037, 1.76), (110, -3.2868, 4.1968, 1.76), (111, -3.2225, 4.1893, 1.76), (112, -3.1561, 4.181, 1.76), (113, -3.0867, 4.1717, 1.76), (114, -3.0177, 4.1608, 1.76), (115, -2.9495, 4.149, 1.76), (116, -2.8845, 4.1377, 1.76), (117, -2.8249, 4.1294, 1.76), (118, -2.7709, 4.1254, 1.76), (119, -2.7188, 4.1265, 1.76), (120, -2.6657, 4.1303, 1.76), (121, -2.6085, 4.1342, 1.76), (122, -2.5483, 4.138, 1.76), (123, -2.4851, 4.1401, 1.76), (124, -2.4202, 4.1431, 1.76), (125, -2.3541, 4.1469, 1.76), (126, -2.286, 4.1521, 1.76), (127, -2.2168, 4.1593, 1.76), (128, -2.1481, 4.1688, 1.76), (129, -2.0815, 4.178, 1.76), (130, -2.0193, 4.1863, 1.76), (131, -1.9598, 4.1933, 1.76), (132, -1.9024, 4.1971, 1.76), (133, -1.8433, 4.1952, 1.76), (134, -1.7819, 4.1867, 1.76), (135, -1.7175, 4.1746, 1.76), (136, -1.6507, 4.1601, 1.76), (137, -1.5811, 4.1444, 1.76), (138, -1.5093, 4.1264, 1.76), (139, -1.4347, 4.1069, 1.76), (140, -1.3588, 4.0879, 1.76), (141, -1.2798, 4.0694, 1.76), (142, -1.2031, 4.0535, 1.76), (143, -1.1325, 4.0457, 1.76), (144, -1.069, 4.0458, 1.76), (145, -1.0098, 4.0496, 1.76), (146, -0.953, 4.0523, 1.76), (147, -0.897, 4.0523, 1.76), (148, -0.8397, 4.052, 1.76), (149, -0.78, 4.0513, 1.76), (150, -0.7194, 4.0513, 1.76), (151, -0.6564, 4.0535, 1.76), (152, -0.5884, 4.0604, 1.76), (153, -0.5173, 4.0728, 1.76), (154, -0.4432, 4.0895, 1.76), (155, -0.3674, 4.107, 1.76), (156, -0.2943, 4.1246, 1.76), (157, -0.2211, 4.1402, 1.76), (158, -0.1483, 4.1511, 1.76), (159, -0.0766, 4.1565, 1.76), (160, -0.0063, 4.1546, 1.76), (161, 0.0629, 4.148, 1.76), (162, 0.1324, 4.1374, 1.76), (163, 0.2047, 4.1238, 1.76), (164, 0.2781, 4.109, 1.76), (165, 0.3538, 4.093, 1.76), (166, 0.4309, 4.0763, 1.76), (167, 0.5085, 4.0612, 1.76), (168, 0.5614, 4.0457, 1.76), (169, 0.6352, 4.0451, 1.76), (170, 0.704, 4.0454, 1.76), (171, 0.7636, 4.0498, 1.76), (172, 0.838, 4.0627, 1.76), (173, 0.9025, 4.0691, 1.76), (174, 0.9637, 4.0743, 1.76), (175, 1.0261, 4.0774, 1.76), (176, 1.0886, 4.081, 1.76), (177, 1.1569, 4.087, 1.76), (178, 1.2215, 4.0834, 1.76), (179, 1.2928, 4.0966, 1.76), (180, 1.3678, 4.104, 1.76), (181, 1.4457, 4.1226, 1.76), (182, 1.5165, 4.1299, 1.76), (183, 1.5869, 4.1401, 1.76), (184, 1.6549, 4.1476, 1.76), (185, 1.7229, 4.1525, 1.76), (186, 1.7857, 4.1572, 1.76), (187, 1.8493, 4.1587, 1.76), (188, 1.9073, 4.1555, 1.76), (189, 1.9682, 4.1504, 1.76), (190, 2.0258, 4.1433, 1.76), (191, 2.0904, 4.1346, 1.76), (192, 2.1558, 4.1295, 1.76), (193, 2.2209, 4.1244, 1.76), (194, 2.2853, 4.1239, 1.76), (195, 2.3594, 4.1311, 1.76), (196, 2.4288, 4.1398, 1.76), (197, 2.4994, 4.1527, 1.76), (198, 2.5626, 4.1635, 1.76), (199, 2.6253, 4.168, 1.76), (200, 2.6899, 4.1753, 1.76), (201, 2.7494, 4.1808, 1.76), (202, 2.8116, 4.1894, 1.76), (203, 2.8729, 4.1921, 1.76), (204, 2.9469, 4.2074, 1.76), (205, 3.0222, 4.2205, 1.76), (206, 3.0923, 4.232, 1.76), (207, 3.1718, 4.2424, 1.76), (208, 3.25, 4.2548, 1.76), (209, 3.323, 4.2588, 1.76), (210, 3.3929, 4.2656, 1.76), (211, 3.4652, 4.263, 1.76), (212, 3.535, 4.259, 1.76), (213, 3.5998, 4.2552, 1.76), (214, 3.6608, 4.2448, 1.76), (215, 3.7196, 4.2363, 1.76), (216, 3.7818, 4.2259, 1.76), (217, 3.8593, 4.2045, 1.76), (218, 3.9318, 4.1949, 1.76), (219, 4.0034, 4.1893, 1.76), (220, 4.0793, 4.1859, 1.76), (221, 4.1349, 4.1863, 1.76), (222, 4.2237, 4.1782, 1.76), (223, 4.3207, 4.2124, 1.76), (224, 4.3768, 4.2208, 1.76), (225, 4.4434, 4.2248, 1.76), (226, 4.5092, 4.2286, 1.76)]\n"
     ]
    }
   ],
   "source": [
    "persona_1 = []\n",
    "# Cargar archivo de texto en modo lectura (Con error explicar por qué)\n",
    "with open('traj_UNI_CORR_500_05.txt', 'r') as archivo:\n",
    "  # Leo las primeras cuatro lineas del archivo (Cabecera)\n",
    "  for i in range(4):\n",
    "    archivo.readline()\n",
    "\n",
    "  for t in archivo:\n",
    "    # Obtengo todos los movimientos de todas las personas en cada frame\n",
    "    fila_str = t.split()\n",
    "    id = int(fila_str[0])\n",
    "    frame = int(fila_str[1])\n",
    "    x = float(fila_str[2])\n",
    "    y = float(fila_str[3])\n",
    "    z = float(fila_str[4])\n",
    "    # Solo guardo la persona uno\n",
    "    if id == 1:\n",
    "      persona_1.append((frame, x, y, z))\n",
    "\n",
    "print(persona_1)"
   ]
  },
  {
   "cell_type": "markdown",
   "metadata": {
    "id": "Rp89_M5qGrW2"
   },
   "source": [
    "##1.2 Mejorar los datos\n",
    "\n",
    "Ordenar los datos de la persona 1 por número de frame, para poder calcular las distancias y las velocidades."
   ]
  },
  {
   "cell_type": "code",
   "execution_count": 4,
   "metadata": {
    "colab": {
     "base_uri": "https://localhost:8080/"
    },
    "executionInfo": {
     "elapsed": 259,
     "status": "ok",
     "timestamp": 1743109354126,
     "user": {
      "displayName": "Juan Bekios",
      "userId": "07279642735588932357"
     },
     "user_tz": 180
    },
    "id": "heIBcmhDHBRv",
    "outputId": "1c1f63de-b29b-4060-95de-e4be56fe0a9b"
   },
   "outputs": [
    {
     "name": "stdout",
     "output_type": "stream",
     "text": [
      "[(74, -5.5268, 4.2383, 1.76), (75, -5.4471, 4.2452, 1.76), (76, -5.3705, 4.2548, 1.76), (77, -5.2965, 4.2515, 1.76), (78, -5.2246, 4.2578, 1.76), (79, -5.1642, 4.2572, 1.76), (80, -5.1223, 4.2612, 1.76), (81, -5.075, 4.2575, 1.76), (82, -5.0274, 4.246, 1.76), (83, -4.975, 4.2477, 1.76), (84, -4.9091, 4.2394, 1.76), (85, -4.8327, 4.2288, 1.76), (86, -4.764, 4.2127, 1.76), (87, -4.6913, 4.1955, 1.76), (88, -4.6185, 4.1756, 1.76), (89, -4.5577, 4.1619, 1.76), (90, -4.4806, 4.1507, 1.76), (91, -4.4286, 4.1452, 1.76), (92, -4.3771, 4.1422, 1.76), (93, -4.3264, 4.1427, 1.76), (94, -4.2727, 4.145, 1.76), (95, -4.2155, 4.1473, 1.76), (96, -4.152, 4.1498, 1.76), (97, -4.0851, 4.1511, 1.76), (98, -4.0136, 4.1517, 1.76), (99, -3.9384, 4.1541, 1.76), (100, -3.8627, 4.1595, 1.76), (101, -3.7902, 4.1683, 1.76), (102, -3.7241, 4.1799, 1.76), (103, -3.6618, 4.1928, 1.76), (104, -3.6061, 4.203, 1.76), (105, -3.5544, 4.2095, 1.76), (106, -3.5046, 4.213, 1.76), (107, -3.4548, 4.2127, 1.76), (108, -3.403, 4.2093, 1.76), (109, -3.347, 4.2037, 1.76), (110, -3.2868, 4.1968, 1.76), (111, -3.2225, 4.1893, 1.76), (112, -3.1561, 4.181, 1.76), (113, -3.0867, 4.1717, 1.76), (114, -3.0177, 4.1608, 1.76), (115, -2.9495, 4.149, 1.76), (116, -2.8845, 4.1377, 1.76), (117, -2.8249, 4.1294, 1.76), (118, -2.7709, 4.1254, 1.76), (119, -2.7188, 4.1265, 1.76), (120, -2.6657, 4.1303, 1.76), (121, -2.6085, 4.1342, 1.76), (122, -2.5483, 4.138, 1.76), (123, -2.4851, 4.1401, 1.76), (124, -2.4202, 4.1431, 1.76), (125, -2.3541, 4.1469, 1.76), (126, -2.286, 4.1521, 1.76), (127, -2.2168, 4.1593, 1.76), (128, -2.1481, 4.1688, 1.76), (129, -2.0815, 4.178, 1.76), (130, -2.0193, 4.1863, 1.76), (131, -1.9598, 4.1933, 1.76), (132, -1.9024, 4.1971, 1.76), (133, -1.8433, 4.1952, 1.76), (134, -1.7819, 4.1867, 1.76), (135, -1.7175, 4.1746, 1.76), (136, -1.6507, 4.1601, 1.76), (137, -1.5811, 4.1444, 1.76), (138, -1.5093, 4.1264, 1.76), (139, -1.4347, 4.1069, 1.76), (140, -1.3588, 4.0879, 1.76), (141, -1.2798, 4.0694, 1.76), (142, -1.2031, 4.0535, 1.76), (143, -1.1325, 4.0457, 1.76), (144, -1.069, 4.0458, 1.76), (145, -1.0098, 4.0496, 1.76), (146, -0.953, 4.0523, 1.76), (147, -0.897, 4.0523, 1.76), (148, -0.8397, 4.052, 1.76), (149, -0.78, 4.0513, 1.76), (150, -0.7194, 4.0513, 1.76), (151, -0.6564, 4.0535, 1.76), (152, -0.5884, 4.0604, 1.76), (153, -0.5173, 4.0728, 1.76), (154, -0.4432, 4.0895, 1.76), (155, -0.3674, 4.107, 1.76), (156, -0.2943, 4.1246, 1.76), (157, -0.2211, 4.1402, 1.76), (158, -0.1483, 4.1511, 1.76), (159, -0.0766, 4.1565, 1.76), (160, -0.0063, 4.1546, 1.76), (161, 0.0629, 4.148, 1.76), (162, 0.1324, 4.1374, 1.76), (163, 0.2047, 4.1238, 1.76), (164, 0.2781, 4.109, 1.76), (165, 0.3538, 4.093, 1.76), (166, 0.4309, 4.0763, 1.76), (167, 0.5085, 4.0612, 1.76), (168, 0.5614, 4.0457, 1.76), (169, 0.6352, 4.0451, 1.76), (170, 0.704, 4.0454, 1.76), (171, 0.7636, 4.0498, 1.76), (172, 0.838, 4.0627, 1.76), (173, 0.9025, 4.0691, 1.76), (174, 0.9637, 4.0743, 1.76), (175, 1.0261, 4.0774, 1.76), (176, 1.0886, 4.081, 1.76), (177, 1.1569, 4.087, 1.76), (178, 1.2215, 4.0834, 1.76), (179, 1.2928, 4.0966, 1.76), (180, 1.3678, 4.104, 1.76), (181, 1.4457, 4.1226, 1.76), (182, 1.5165, 4.1299, 1.76), (183, 1.5869, 4.1401, 1.76), (184, 1.6549, 4.1476, 1.76), (185, 1.7229, 4.1525, 1.76), (186, 1.7857, 4.1572, 1.76), (187, 1.8493, 4.1587, 1.76), (188, 1.9073, 4.1555, 1.76), (189, 1.9682, 4.1504, 1.76), (190, 2.0258, 4.1433, 1.76), (191, 2.0904, 4.1346, 1.76), (192, 2.1558, 4.1295, 1.76), (193, 2.2209, 4.1244, 1.76), (194, 2.2853, 4.1239, 1.76), (195, 2.3594, 4.1311, 1.76), (196, 2.4288, 4.1398, 1.76), (197, 2.4994, 4.1527, 1.76), (198, 2.5626, 4.1635, 1.76), (199, 2.6253, 4.168, 1.76), (200, 2.6899, 4.1753, 1.76), (201, 2.7494, 4.1808, 1.76), (202, 2.8116, 4.1894, 1.76), (203, 2.8729, 4.1921, 1.76), (204, 2.9469, 4.2074, 1.76), (205, 3.0222, 4.2205, 1.76), (206, 3.0923, 4.232, 1.76), (207, 3.1718, 4.2424, 1.76), (208, 3.25, 4.2548, 1.76), (209, 3.323, 4.2588, 1.76), (210, 3.3929, 4.2656, 1.76), (211, 3.4652, 4.263, 1.76), (212, 3.535, 4.259, 1.76), (213, 3.5998, 4.2552, 1.76), (214, 3.6608, 4.2448, 1.76), (215, 3.7196, 4.2363, 1.76), (216, 3.7818, 4.2259, 1.76), (217, 3.8593, 4.2045, 1.76), (218, 3.9318, 4.1949, 1.76), (219, 4.0034, 4.1893, 1.76), (220, 4.0793, 4.1859, 1.76), (221, 4.1349, 4.1863, 1.76), (222, 4.2237, 4.1782, 1.76), (223, 4.3207, 4.2124, 1.76), (224, 4.3768, 4.2208, 1.76), (225, 4.4434, 4.2248, 1.76), (226, 4.5092, 4.2286, 1.76)]\n"
     ]
    }
   ],
   "source": [
    "# Definición de la función que retorna el primer elemento de la tupla\n",
    "def obtener_frame(tupla):\n",
    "    return tupla[0]\n",
    "\n",
    "# Ordenando la lista por el elemento 'frame' usando la función definida\n",
    "persona_1.sort(key=obtener_frame)\n",
    "\n",
    "print(persona_1)"
   ]
  },
  {
   "cell_type": "markdown",
   "metadata": {
    "id": "-at95-QFHb-z"
   },
   "source": [
    "#2. Analizar los datos\n",
    "\n",
    "Como ejemplo se calcularán la rapidez entre frame y frame. Se debe considerar que el video esta capturado a 25 frames por segundo.\n",
    "\n",
    "$$rapidez = \\frac{d(\\mathbf{frame_1}, \\mathbf{frame_2})}{Tiempo\\;entre\\;frames} = \\frac{\\|\\mathbf{frame_1} - \\mathbf{frame_2}\\|}{\\frac{1}{25}\\; seg}$$\n",
    "\n",
    "\n",
    "La distancia euclidea entre dos puntos se puede implementar como:"
   ]
  },
  {
   "cell_type": "code",
   "execution_count": 5,
   "metadata": {
    "executionInfo": {
     "elapsed": 5,
     "status": "ok",
     "timestamp": 1743109357512,
     "user": {
      "displayName": "Juan Bekios",
      "userId": "07279642735588932357"
     },
     "user_tz": 180
    },
    "id": "n3gJtX5oKjoF"
   },
   "outputs": [],
   "source": [
    "import math\n",
    "\n",
    "# Calculo de la distancia entre dos frame de la misma persona\n",
    "def distancia_euclidea(punto_frame_1, punto_frame_2):\n",
    "    x1, y1 = punto_frame_1\n",
    "    x2, y2 = punto_frame_2\n",
    "    return math.sqrt((x2 - x1)**2 + (y2 - y1)**2)"
   ]
  },
  {
   "cell_type": "markdown",
   "metadata": {
    "id": "qoR3Q0wscH2z"
   },
   "source": [
    "El cálculo de la velocidad estará dado por el siguiente código:"
   ]
  },
  {
   "cell_type": "code",
   "execution_count": 6,
   "metadata": {
    "executionInfo": {
     "elapsed": 6,
     "status": "ok",
     "timestamp": 1743109362780,
     "user": {
      "displayName": "Juan Bekios",
      "userId": "07279642735588932357"
     },
     "user_tz": 180
    },
    "id": "Y4ReYXS4cQdB"
   },
   "outputs": [],
   "source": [
    "# Cálculo de la rapidez\n",
    "def rapidez(punto_1, punto_2, tiempo):\n",
    "  distancia = distancia_euclidea(punto_1, punto_2)\n",
    "  rapid = distancia/tiempo\n",
    "  return rapid"
   ]
  },
  {
   "cell_type": "markdown",
   "metadata": {
    "id": "BxG9gElfc70P"
   },
   "source": [
    "###2.1 Cálculo de la rapidez media de la persona 1\n",
    "\n",
    "Con los datos de la persona 1, ordenados por número de frame ascendentes y consecutivos. Se calcula la velocidad de la persona 1 cada dos frames."
   ]
  },
  {
   "cell_type": "code",
   "execution_count": 7,
   "metadata": {
    "colab": {
     "base_uri": "https://localhost:8080/"
    },
    "executionInfo": {
     "elapsed": 227,
     "status": "ok",
     "timestamp": 1743109366414,
     "user": {
      "displayName": "Juan Bekios",
      "userId": "07279642735588932357"
     },
     "user_tz": 180
    },
    "id": "0v-rsEnkdanI",
    "outputId": "f07b3c11-3ddf-4492-9b07-e34fc97e99c0"
   },
   "outputs": [
    {
     "name": "stdout",
     "output_type": "stream",
     "text": [
      "[1.9999531244506676, 1.9299805698503827, 1.851838613378603, 1.8043870150275476, 1.5100745014733434, 1.0522624434997194, 1.1861123471239945, 1.2242370072824964, 1.3106892270862793, 1.6605157331383547, 1.9282958797860772, 1.7640330212328723, 1.8676740213431293, 1.886771382547444, 1.558109832457273, 1.9477310517625326, 1.307251410402747, 1.289682615995111, 1.2675616355822914, 1.3437308138164972, 1.4311555645701344, 1.5887298385817379, 1.6728157400024763, 1.7875629359549696, 1.8809572031282407, 1.8973089495388027, 1.8258029055733207, 1.6777533340750654, 1.5905384308466126, 1.4156557667738274, 1.302675132179938, 1.2480710116014992, 1.245022590156496, 1.2977865772152233, 1.4069825869569244, 1.5148535407754802, 1.6183981277794344, 1.6729184827719554, 1.7505088545905694, 1.7463909213002684, 1.7303323380206483, 1.6493729869256377, 1.5043790247141842, 1.3536986370680848, 1.3027902747564617, 1.3308949056931507, 1.4333200096280052, 1.507995358083042, 1.5808719903901067, 1.6242325110648448, 1.6552284585518713, 1.707456075569731, 1.73933895489062, 1.7338432743474879, 1.6808108162431545, 1.5687833661790342, 1.497758742254569, 1.4381411613607313, 1.4782633391923143, 1.5496390708806969, 1.6381716179936718, 1.708890356342383, 1.7837197790011763, 1.8505472163660086, 1.9276621202897557, 1.956049909894942, 2.0284307358152525, 1.9582677293975925, 1.7757392826651088, 1.5875019685027192, 1.4830458522918277, 1.421603408127599, 1.3999999999999984, 1.4325196333733095, 1.49260259278885, 1.5149999999999997, 1.5759600248737287, 1.7087294256259515, 1.8043298617492345, 1.898963533088512, 1.9448473590490334, 1.8797223864177381, 1.8710959355415218, 1.840287002073316, 1.7975764935045195, 1.758141774715566, 1.7378506840347374, 1.7575924584499074, 1.83919989397564, 1.8719308213713468, 1.9343102775925065, 1.9721973785602709, 1.976387171077566, 1.3781010485447027, 1.8450609746021942, 1.7200163516664593, 1.494054885203352, 1.8877516388550701, 1.6204185416120103, 1.535512943612005, 1.5619238937925242, 1.5650898536505826, 1.7140759172218707, 1.6175057959710675, 1.8127896320312469, 1.8841045618542516, 2.0022440535559123, 1.77938367138737, 1.778377069127918, 1.7103088171438512, 1.7044078883882245, 1.5743907551811893, 1.5904421555026735, 1.4522052196573327, 1.5278293425641472, 1.4508984285607294, 1.6295800839480092, 1.6399637953320878, 1.6324866002512795, 1.6100485241134819, 1.8612243953913796, 1.7485797808507317, 1.7942216278932825, 1.6029036153181537, 1.5715318959537534, 1.6252788222332801, 1.4938415243927279, 1.569792979981752, 1.5339858213164845, 1.8891284366077343, 1.9107753661799294, 1.775925814892042, 2.004434147084915, 1.979425421681754, 1.8277376726434222, 1.7557494838387415, 1.8086683637416736, 1.7478629808998256, 1.6227831031903175, 1.5470051712906467, 1.4852798557847535, 1.5765865025427614, 2.0100077736168105, 1.8283206091930349, 1.7954665131937175, 1.8994028666925789, 1.390035970757594, 2.229216510346179, 2.5713128942234977, 1.4181347785030824, 1.668000299760149, 1.6477408776867875]\n"
     ]
    }
   ],
   "source": [
    "# Obtengo el primer punto del frame\n",
    "p1 = persona_1[0][1:3]\n",
    "tiempo = 1.0/25.0\n",
    "\n",
    "lista_rapidez_p1 = []\n",
    "# Itero a partir del segundo elemento de la lista\n",
    "for p in persona_1[1:]:\n",
    "  p2 = p[1:3]\n",
    "  lista_rapidez_p1.append(rapidez(p1, p2, tiempo))\n",
    "  # Cambio p1 a p2 y actualizo los nuevos puntos\n",
    "  p1 = p2\n",
    "\n",
    "print(lista_rapidez_p1)"
   ]
  },
  {
   "cell_type": "markdown",
   "metadata": {
    "id": "hGDTrwkWfkIJ"
   },
   "source": [
    "Finalmente, la velocidad media para la persona 1 será:"
   ]
  },
  {
   "cell_type": "code",
   "execution_count": 10,
   "metadata": {
    "colab": {
     "base_uri": "https://localhost:8080/"
    },
    "executionInfo": {
     "elapsed": 328,
     "status": "ok",
     "timestamp": 1743109402406,
     "user": {
      "displayName": "Juan Bekios",
      "userId": "07279642735588932357"
     },
     "user_tz": 180
    },
    "id": "rbDri_lPfqVE",
    "outputId": "04fe28d2-05e3-487c-976e-5676eb55f5ed"
   },
   "outputs": [
    {
     "name": "stdout",
     "output_type": "stream",
     "text": [
      "La rapidez media de la persona 1 es: 1.6668956647565196[m/seg]\n"
     ]
    }
   ],
   "source": [
    "rapidez_media = sum(lista_rapidez_p1)/len(lista_rapidez_p1)\n",
    "print(f'La rapidez media de la persona 1 es: {rapidez_media}[m/seg]')"
   ]
  },
  {
   "cell_type": "markdown",
   "metadata": {
    "id": "HFUGaqK6ggJQ"
   },
   "source": [
    "#3. Visualización de datos\n",
    "\n"
   ]
  },
  {
   "cell_type": "markdown",
   "metadata": {
    "id": "uCELanPAbeYZ"
   },
   "source": [
    "# Gráfico de lineas\n",
    "\n",
    "Primero visualizaremos la trayectoria del peatón en con un gráfico."
   ]
  },
  {
   "cell_type": "code",
   "execution_count": 29,
   "metadata": {
    "colab": {
     "base_uri": "https://localhost:8080/",
     "height": 426
    },
    "executionInfo": {
     "elapsed": 420,
     "status": "ok",
     "timestamp": 1743110648679,
     "user": {
      "displayName": "Juan Bekios",
      "userId": "07279642735588932357"
     },
     "user_tz": 180
    },
    "id": "yCHgtxIsbsoh",
    "outputId": "e1cfcda2-0e75-4dfe-be8b-224be89d8ac8"
   },
   "outputs": [
    {
     "data": {
      "image/png": "[encoded data removed]",
      "text/plain": [
       "<Figure size 1000x600 with 1 Axes>"
      ]
     },
     "metadata": {},
     "output_type": "display_data"
    }
   ],
   "source": [
    "import matplotlib.pyplot as plt\n",
    "\n",
    "# Extraer posiciones x e y\n",
    "x_vals = [dato[1] for dato in persona_1]\n",
    "y_vals = [dato[2] for dato in persona_1]\n",
    "\n",
    "# Dibujar línea entre los dos puntos\n",
    "fig, ax = plt.subplots(figsize=(10, 6))\n",
    "ax.plot(x_vals, y_vals, marker='o', linestyle='-', color='blue', label='Trayectoria')\n",
    "\n",
    "# Etiquetas en los puntos\n",
    "#for i, dato in enumerate(persona_1):\n",
    "#    ax.text(dato[1], dato[2] + 0.005, f\"{dato[0]}\", ha='center')\n",
    "\n",
    "# Configuración del gráfico\n",
    "ax.set_title(\"Línea entre puntos\")\n",
    "ax.set_xlabel(\"Posición X\")\n",
    "ax.set_ylabel(\"Posición Y\")\n",
    "ax.set_xlim(-6, 6)\n",
    "ax.set_ylim(0, 5)\n",
    "ax.grid(True)\n",
    "ax.legend()\n",
    "ax.set_aspect('equal')\n",
    "\n"
   ]
  },
  {
   "cell_type": "markdown",
   "metadata": {
    "id": "gB6b7GSdbt5B"
   },
   "source": [
    "## Histogramas\n",
    "\n",
    "Como ejemplo, se visualizará todas las velocidades obtenidas por el peatón 1 en un gráfico de histograma. Con el fin de analizar el comportamiento de la persona 1.\n",
    "\n",
    "Graficamos el histograma con 5 bins o divisiones."
   ]
  },
  {
   "cell_type": "code",
   "execution_count": 12,
   "metadata": {
    "colab": {
     "base_uri": "https://localhost:8080/",
     "height": 472
    },
    "executionInfo": {
     "elapsed": 275,
     "status": "ok",
     "timestamp": 1743109453699,
     "user": {
      "displayName": "Juan Bekios",
      "userId": "07279642735588932357"
     },
     "user_tz": 180
    },
    "id": "POzIT6wFhyvg",
    "outputId": "fa3a34ef-44ea-4787-d9ac-a91ce629aca0"
   },
   "outputs": [
    {
     "data": {
      "image/png": "[encoded data removed]",
      "text/plain": [
       "<Figure size 640x480 with 1 Axes>"
      ]
     },
     "metadata": {},
     "output_type": "display_data"
    }
   ],
   "source": [
    "import matplotlib.pyplot as plt\n",
    "\n",
    "# Crear un histograma\n",
    "plt.hist(lista_rapidez_p1, bins=5, color='blue', edgecolor='black')  # bins define el número de intervalos\n",
    "\n",
    "# Agregar títulos y etiquetas\n",
    "plt.title('Histograma de rapidez del peatón 1')\n",
    "plt.xlabel('Rapidez [m/seg]')\n",
    "plt.ylabel('Frecuencia')\n",
    "\n",
    "# Mostrar el histograma\n",
    "plt.show()\n"
   ]
  },
  {
   "cell_type": "markdown",
   "metadata": {
    "id": "lAAPcOLSiDiS"
   },
   "source": [
    "Se puede apreciar que el peatøn tiende a caminar a una razón de 1.8 m/seg.\n",
    "\n",
    "Si probamos más divisiones del histograma, por ejemplo bins=40, la tendencia se mantiene pero se puede ver con más detalle que las velocidades predominants son 1.6 y 1.0 m/s."
   ]
  },
  {
   "cell_type": "code",
   "execution_count": null,
   "metadata": {
    "colab": {
     "base_uri": "https://localhost:8080/",
     "height": 472
    },
    "id": "UiRHkypKg5Xm",
    "outputId": "794170e9-877d-41fb-cc02-a4ece50742d5"
   },
   "outputs": [
    {
     "data": {
      "image/png": "[encoded data removed]",
      "text/plain": [
       "<Figure size 640x480 with 1 Axes>"
      ]
     },
     "metadata": {},
     "output_type": "display_data"
    }
   ],
   "source": [
    "import matplotlib.pyplot as plt\n",
    "\n",
    "# Crear un histograma\n",
    "plt.hist(velocidades_p1, bins=40, color='blue', edgecolor='black')  # bins define el número de intervalos\n",
    "\n",
    "# Agregar títulos y etiquetas\n",
    "plt.title('Histograma de velocidades del peatón 1')\n",
    "plt.xlabel('Velocidades [m/seg]')\n",
    "plt.ylabel('Frecuencia')\n",
    "\n",
    "# Mostrar el histograma\n",
    "plt.show()\n"
   ]
  },
  {
   "cell_type": "markdown",
   "metadata": {
    "id": "GC2W7_fmH3fQ"
   },
   "source": [
    "#2. Problema\n",
    "\n",
    "El laboratorio busca analizar el movimiento de peatones en un corredor unidireccional para comprender mejor la dinámica de flujo peatonal en entornos controlados. Utilizando un conjunto de datos específico, el laboratorio se enfoca en:\n",
    "\n",
    "1. **Cargar y Preparar los Datos:** Importar los datos desde un archivo externo utilizando Python, con especial atención en extraer información relevante como marcas de tiempo y posiciones de cada peatón registrado.\n",
    "\n",
    "2. **Análisis de Datos:**\n",
    "   - **Cantidad de Peatones:** Determinar cuántos peatones participan en el experimento, contando el número de identificadores únicos de peatones en el dataset.\n",
    "   - **Rapidez Media por Peatón:** Calcular la rapidez media para cada peatón individualmente. Esto implicará determinar la distancia total recorrida y el tiempo total empleado, luego calcular la rapidez promedio para cada uno.\n",
    "   \n",
    "3. **Visualización de Datos:**\n",
    "   - **Histograma de Rapidez Media:** Crear un histograma para visualizar la distribución de la rapidez media de todos los peatones. Identificar la rapidez media dominante observando el peak (valor más alto) más prominente en el histograma.\n",
    "   \n",
    "4. **Cálculo de Rapidez Media Global:** Determinar la velocidad media de todos los peatones en el experimento, que será el promedio de todas las velocidades medias individuales.\n",
    "\n",
    "### Objetivos Adicionales:\n",
    "- **Interpretación de Resultados:** Discutir cómo los resultados pueden influir en el diseño de infraestructura peatonal y en la planificación de eventos masivos, basándose en las velocidades medias y las tendencias observadas en el histograma.\n",
    "\n",
    "Este enfoque permitirá obtener una comprensión detallada de las características del flujo peatonal, crucial para mejoras en seguridad y eficiencia en entornos urbanos y otros espacios públicos.\n",
    "\n",
    "## 1. Cargar y Preparar los Datos\n",
    "\n",
    "### 1.1 Carga de archivos de textos de peatones"
   ]
  },
  {
   "cell_type": "code",
   "execution_count": null,
   "metadata": {
    "colab": {
     "base_uri": "https://localhost:8080/"
    },
    "id": "REgQALDhfC0e",
    "outputId": "a2625f80-b466-436b-8f54-1d95afb591d6"
   },
   "outputs": [
    {
     "name": "stdout",
     "output_type": "stream",
     "text": [
      "Mounted at /gdrive\n",
      "/gdrive/MyDrive/PCIENTIFICA/lab02/dataset\n"
     ]
    }
   ],
   "source": [
    "# Montar unidad virtual desde google Drive\n",
    "from google.colab import drive\n",
    "drive.mount('/gdrive', force_remount=True)\n",
    "%cd '/gdrive/MyDrive/PCIENTIFICA/lab02/dataset'"
   ]
  },
  {
   "cell_type": "code",
   "execution_count": null,
   "metadata": {
    "id": "5zT1y8yTgzjK"
   },
   "outputs": [],
   "source": [
    "# Cargar archivo de texto en modo lectura (Con error explicar por qué)\n",
    "with open('traj_UNI_CORR_500_05.txt', 'r') as archivo:\n",
    "  # Lee el contenido del archivo\n",
    "  peatones_txt = archivo.read()"
   ]
  },
  {
   "cell_type": "code",
   "execution_count": null,
   "metadata": {
    "colab": {
     "base_uri": "https://localhost:8080/"
    },
    "id": "wa9cUl4fhaMr",
    "outputId": "47f08e84-e450-48d3-94e8-17652c29fb3b"
   },
   "outputs": [
    {
     "name": "stderr",
     "output_type": "stream",
     "text": [
      "IOPub data rate exceeded.\n",
      "The notebook server will temporarily stop sending output\n",
      "to the client in order to avoid crashing it.\n",
      "To change this limit, set the config variable\n",
      "`--NotebookApp.iopub_data_rate_limit`.\n",
      "\n",
      "Current values:\n",
      "NotebookApp.iopub_data_rate_limit=1000000.0 (bytes/sec)\n",
      "NotebookApp.rate_limit_window=3.0 (secs)\n",
      "\n"
     ]
    }
   ],
   "source": [
    "# Imprimimos el contenido del archivo\n",
    "print(peatones_txt)"
   ]
  },
  {
   "cell_type": "code",
   "execution_count": null,
   "metadata": {
    "id": "odkLuYN7jf8g"
   },
   "outputs": [],
   "source": [
    "# Cargar todos los peatones en una estructura de datos adecuada"
   ]
  },
  {
   "cell_type": "markdown",
   "metadata": {
    "id": "9RhKuD1AUIHt"
   },
   "source": [
    "### 1.2 Ordenar la lista por el número de frame\n",
    "\n",
    "Para poder calcular la velocidad de una hay que considerar solo frame continuos."
   ]
  },
  {
   "cell_type": "code",
   "execution_count": null,
   "metadata": {
    "id": "zFmWHIWtUsyh"
   },
   "outputs": [],
   "source": [
    "# Ordenar los frames en orden consecutivos para todos los peatones"
   ]
  },
  {
   "cell_type": "markdown",
   "metadata": {
    "id": "GtC9WpFcVWhp"
   },
   "source": [
    "##2. Análisis de Datos\n",
    "\n",
    "**Cantidad de Peatones:** Determinar cuántos peatones participan en el experimento, contando el número de identificadores únicos de peatones en el dataset.\n",
    "\n",
    "**Velocidad Media por Peatón:** Calcular la velocidad media para cada peatón individualmente. Esto implicará determinar la distancia total recorrida y el tiempo total empleado, luego calcular la velocidad promedio para cada uno.\n"
   ]
  },
  {
   "cell_type": "code",
   "execution_count": null,
   "metadata": {
    "id": "_o3FvNIrjkNq"
   },
   "outputs": [],
   "source": [
    "# Calcular la cantidad de peatones que hay en el dataset"
   ]
  },
  {
   "cell_type": "code",
   "execution_count": null,
   "metadata": {
    "id": "m2rh_Hezjq4x"
   },
   "outputs": [],
   "source": [
    "# Calcular la velocidad media de cada peaton"
   ]
  },
  {
   "cell_type": "markdown",
   "metadata": {
    "id": "YJukdshzj0K5"
   },
   "source": [
    "##3. Visualización de Datos\n",
    "\n",
    " Crear un histograma para visualizar la distribución de las velocidades medias de todos los peatones. Identificar la velocidad media dominante observando el peak (valor más alto) más prominente en el histograma.\n",
    "\n"
   ]
  },
  {
   "cell_type": "code",
   "execution_count": null,
   "metadata": {
    "id": "siQPN_GlkF0c"
   },
   "outputs": [],
   "source": [
    "# Graficar histograma"
   ]
  },
  {
   "cell_type": "markdown",
   "metadata": {
    "id": "T39H1Yn5kJkN"
   },
   "source": [
    "##4. Cálculo de Velocidad Media Global\n",
    "\n",
    "Determinar la velocidad media de todos los peatones en el experimento, que será el promedio de todas las velocidades medias individuales."
   ]
  },
  {
   "cell_type": "code",
   "execution_count": null,
   "metadata": {
    "id": "T-UFw94HkWhU"
   },
   "outputs": [],
   "source": [
    "# Calcular la velocidad media de todos los peatones"
   ]
  },
  {
   "cell_type": "markdown",
   "metadata": {
    "id": "Y47wkn2p72Pd"
   },
   "source": [
    "#Reporte\n",
    "\n",
    "##1. Resultados\n",
    "\n",
    "Usar tablas y gráficos para explicar los resultados obtenidos.\n",
    "\n",
    "| **Modelo** | **Función de Similitud** | **Accuracy** (Tasa de acierto) |\n",
    "|---|---|---|\n",
    "| 01 | Coseno |  |\n",
    "| 02 | Euclídea |  |\n",
    "|  |  |  |\n",
    "|  |  |  |\n",
    "|  |  |  |\n",
    "\n",
    "###Modelos\n",
    "\n",
    "*   01: Explicar brevemente como se entrenó el modelo 01.\n",
    "*   02: Explicar brevemente como se entrenó el modelo 02.\n",
    "*   ...\n",
    "*   0n: Explicar brevemente como se entrenó el modelo n.\n",
    "\n",
    "\n",
    "\n",
    "##2. Conclusiones\n",
    "\n",
    "Que puede deducir de los resultados obtenidos.\n",
    "\n",
    "*   ¿Qué estrutura de datos es mejor para resolver este problema?\n",
    "*   ¿Qué mejoraría en la implementación de este problema?\n",
    "*   ¿Cual es rendimiento computacional (espacio y tiempo) de este problema?\n",
    "*   ¿Qué se puede inferir del comportamiento de los peatones en este tipo de problemas?\n",
    "\n",
    "\n"
   ]
  }
 ],
 "metadata": {
  "colab": {
   "provenance": []
  },
  "kernelspec": {
   "display_name": "Python 3",
   "name": "python3"
  }
 },
 "nbformat": 4,
 "nbformat_minor": 0
}
